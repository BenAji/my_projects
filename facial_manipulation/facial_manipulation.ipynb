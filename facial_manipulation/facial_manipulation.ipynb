{
 "cells": [
  {
   "cell_type": "code",
   "execution_count": null,
   "id": "89638ebf",
   "metadata": {},
   "outputs": [],
   "source": [
    "import cv2\n",
    "import dlib\n",
    "import numpy as np"
   ]
  },
  {
   "cell_type": "code",
   "execution_count": 15,
   "id": "9ff104f4-73c8-4852-a358-f53794fd3247",
   "metadata": {},
   "outputs": [],
   "source": [
    "# Load the detector and predictor\n",
    "detector = dlib.get_frontal_face_detector()\n",
    "predictor = dlib.shape_predictor(\"shape_predictor_68_face_landmarks.dat\")"
   ]
  },
  {
   "cell_type": "code",
   "execution_count": 19,
   "id": "6760c8f4",
   "metadata": {},
   "outputs": [],
   "source": [
    "# Load the image\n",
    "image = cv2.imread(\"face_image.jpg\")"
   ]
  },
  {
   "cell_type": "code",
   "execution_count": 20,
   "id": "9251a12d",
   "metadata": {},
   "outputs": [],
   "source": [
    "# Convert the image to grayscale\n",
    "gray = cv2.cvtColor(image, cv2.COLOR_BGR2GRAY)\n",
    "\n",
    "# Detect faces in the image\n",
    "faces = detector(gray)"
   ]
  },
  {
   "cell_type": "code",
   "execution_count": 24,
   "id": "d3a8cf84",
   "metadata": {},
   "outputs": [],
   "source": [
    "for face in faces:\n",
    "    # Get the landmarks/parts for the face\n",
    "    landmarks = predictor(gray, face).parts()\n",
    "\n",
    "    # Convert landmarks to numpy array\n",
    "    landmarks_array = np.array([(p.x, p.y) for p in landmarks])\n",
    "\n",
    "    # You can manipulate facial expressions here by moving the landmark points.\n",
    "    # As an example, let's raise the eyebrows by subtracting 5 from their y-coordinates.\n",
    "    for i in range(17, 27):  # eyebrow landmarks\n",
    "        landmarks_array[i][1] -= 50\n",
    "\n",
    "    # Draw the new landmarks on the image\n",
    "    for (x, y) in landmarks_array:\n",
    "        cv2.circle(image, (x, y), 1, (0, 255, 0), -1)\n",
    "\n",
    "# Display the output\n",
    "cv2.imshow('Facial Expression Manipulation', image)\n",
    "cv2.waitKey(0)\n",
    "cv2.destroyAllWindows()"
   ]
  },
  {
   "cell_type": "code",
   "execution_count": 22,
   "id": "73635552",
   "metadata": {},
   "outputs": [
    {
     "data": {
      "text/plain": [
       "points[(326, 647), (328, 750), (335, 857), (354, 964), (386, 1069), (445, 1157), (520, 1232), (611, 1288), (722, 1303), (829, 1283), (914, 1222), (986, 1149), (1041, 1064), (1075, 962), (1093, 854), (1097, 743), (1093, 638), (376, 563), (415, 503), (484, 482), (556, 496), (625, 525), (775, 518), (847, 490), (921, 477), (993, 497), (1033, 557), (703, 614), (706, 674), (709, 733), (712, 796), (603, 846), (656, 855), (712, 868), (765, 851), (815, 839), (450, 646), (488, 625), (539, 625), (587, 650), (537, 659), (488, 660), (825, 647), (871, 621), (920, 619), (964, 639), (924, 653), (874, 654), (525, 1015), (584, 961), (655, 938), (712, 947), (770, 934), (845, 952), (901, 1004), (850, 1080), (779, 1117), (718, 1126), (658, 1121), (585, 1086), (552, 1016), (656, 989), (712, 990), (771, 983), (878, 1005), (775, 1047), (716, 1056), (659, 1050)]"
      ]
     },
     "execution_count": 22,
     "metadata": {},
     "output_type": "execute_result"
    }
   ],
   "source": [
    "landmarks "
   ]
  },
  {
   "cell_type": "code",
   "execution_count": 23,
   "id": "82a238bf",
   "metadata": {},
   "outputs": [
    {
     "data": {
      "text/plain": [
       "array([[152, 147, 147, ..., 183, 183, 181],\n",
       "       [157, 154, 154, ..., 185, 185, 185],\n",
       "       [162, 160, 162, ..., 188, 188, 188],\n",
       "       ...,\n",
       "       [194, 197, 198, ..., 214, 199, 190],\n",
       "       [205, 205, 203, ..., 147, 125, 113],\n",
       "       [194, 192, 188, ...,  57,  40,  32]], dtype=uint8)"
      ]
     },
     "execution_count": 23,
     "metadata": {},
     "output_type": "execute_result"
    }
   ],
   "source": [
    "gray"
   ]
  },
  {
   "cell_type": "code",
   "execution_count": 25,
   "id": "805ee993",
   "metadata": {},
   "outputs": [
    {
     "data": {
      "text/plain": [
       "rectangles[[(325, 410) (1095, 1181)]]"
      ]
     },
     "execution_count": 25,
     "metadata": {},
     "output_type": "execute_result"
    }
   ],
   "source": [
    "faces"
   ]
  },
  {
   "cell_type": "code",
   "execution_count": null,
   "id": "be561ef0",
   "metadata": {},
   "outputs": [],
   "source": []
  }
 ],
 "metadata": {
  "kernelspec": {
   "display_name": "Python 3 (ipykernel)",
   "language": "python",
   "name": "python3"
  },
  "language_info": {
   "codemirror_mode": {
    "name": "ipython",
    "version": 3
   },
   "file_extension": ".py",
   "mimetype": "text/x-python",
   "name": "python",
   "nbconvert_exporter": "python",
   "pygments_lexer": "ipython3",
   "version": "3.11.3"
  }
 },
 "nbformat": 4,
 "nbformat_minor": 5
}
